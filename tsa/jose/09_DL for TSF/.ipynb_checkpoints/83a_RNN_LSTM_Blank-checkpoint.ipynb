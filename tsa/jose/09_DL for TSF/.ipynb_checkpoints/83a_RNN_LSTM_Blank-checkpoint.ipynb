{
 "cells": [
  {
   "cell_type": "markdown",
   "metadata": {},
   "source": [
    "# <font color=\"gold\"><b>RNN</b></font>\n",
    "### <font color=\"green\"><b>Steps performed:</b></font>\n",
    "<div style=\"color:cyan;font-weight:bold;\">\n",
    "1) Load dataset<br>\n",
    "2) visualize the feature column<br>\n",
    "3) Plot seasonal decompose<br>\n",
    "4) Split data into Train-Test<br>\n",
    "5) Scale the data<br>\n",
    "6) Feeding batches of data to RNN<br>\n",
    "7) Building LSTM Model <br>\n",
    "8) Visualizing the fitted model<br>\n",
    "9) Evaluation batch on test data<br>\n",
    "10) Forecast using RNN Model<br>\n",
    "11) Inverse Transformations and Comparison<br>\n",
    "12) Saving and loading the model<br>\n",
    "</div>"
   ]
  },
  {
   "cell_type": "code",
   "execution_count": null,
   "metadata": {},
   "outputs": [],
   "source": [
    "import pandas as pd\n",
    "import numpy as np\n",
    "\n",
    "import matplotlib.pyplot as plt\n",
    "%matplotlib inline\n",
    "\n",
    "import tensorflow as tf\n",
    "from tensorflow import keras"
   ]
  },
  {
   "cell_type": "code",
   "execution_count": null,
   "metadata": {},
   "outputs": [],
   "source": [
    "df = pd.read_csv(\"../Data/Alcohol_Sales.csv\", index_col=\"DATE\", parse_dates=True)\n",
    "df.index.freq=\"MS\"\n",
    "df.columns = ['Sales']\n",
    "df.head()"
   ]
  },
  {
   "cell_type": "code",
   "execution_count": null,
   "metadata": {},
   "outputs": [],
   "source": [
    "df.plot(figsize=(18,9));"
   ]
  },
  {
   "cell_type": "code",
   "execution_count": null,
   "metadata": {},
   "outputs": [],
   "source": [
    "from statsmodels.tsa.seasonal import seasonal_decompose\n",
    "\n",
    "decompositions = seasonal_decompose(df['Sales'])\n",
    "decompositions.plot();"
   ]
  },
  {
   "cell_type": "code",
   "execution_count": null,
   "metadata": {},
   "outputs": [],
   "source": [
    "decompositions.resid.plot(figsize=(18,9));"
   ]
  },
  {
   "cell_type": "markdown",
   "metadata": {},
   "source": [
    "# <font color=\"gold\"><ins><b>Step4-5: Train-Test Split and Scale Data</b></ins></font>"
   ]
  },
  {
   "cell_type": "code",
   "execution_count": null,
   "metadata": {},
   "outputs": [],
   "source": [
    "train, test = df.iloc[:313], df.iloc[313:]\n",
    "\n",
    "from sklearn.preprocessing import MinMaxScaler\n",
    "import warnings\n",
    "\n",
    "scaler = MinMaxScaler()\n",
    "\n",
    "warnings.filterwarnings(\"ignore\")\n",
    "# Fit only to train dataset, as Test Dataset's scale is unknown\n",
    "scaler.fit(train)\n",
    "\n",
    "scaled_train_data = scaler.transform(train)\n",
    "scaled_test_data = scaler.transform(test)"
   ]
  },
  {
   "cell_type": "markdown",
   "metadata": {},
   "source": [
    "# <font color=\"gold\"><b>Step6: Feeding batches of data to RNN via <ins>Time Series Generator</ins></b></font>\n",
    "\n",
    "This class takes in a sequence of data-points gathered at\n",
    "equal intervals, along with time series parameters such as\n",
    "stride, length of history, etc., to produce batches for\n",
    "training/validation.\n"
   ]
  },
  {
   "cell_type": "code",
   "execution_count": null,
   "metadata": {},
   "outputs": [],
   "source": [
    "# For feeding batches of data to RNN\n",
    "from keras.preprocessing.sequence import TimeseriesGenerator\n",
    "\n",
    "# usually equal to the seasonal period cycle, i.e. 7 for day level data, 12 for month level data, etc\n",
    "n_input = 12\n",
    "n_features = 1\n",
    "\n",
    "# since source of data and traget are same, pass scaled train dataset twice\n",
    "train_generator = TimeseriesGenerator(scaled_train_data, scaled_train_data, length=n_input, batch_size=1)\n"
   ]
  },
  {
   "cell_type": "code",
   "execution_count": null,
   "metadata": {},
   "outputs": [],
   "source": [
    "print(\"Len of train_dataset = len of generator + len of n_input\")\n",
    "print(f\" {len(scaled_train_data)} = {len(train_generator)} + {n_input}\")"
   ]
  },
  {
   "cell_type": "markdown",
   "metadata": {},
   "source": [
    "What _TimeseriesGenerator_ does for us is tranform the sequence <br>\n",
    "> [t1,t2,t3,t4,t5,t6] into <br>\n",
    "> [t1,t2,t3,t4,t5] -> [t6] <br>\n",
    "i.e. it takes a sequence of data, transforms it to the above format, i.e. the input format of RNN <br>\n",
    "and LHS is features, RHS is label for the RNN for each batch <br>"
   ]
  },
  {
   "cell_type": "code",
   "execution_count": null,
   "metadata": {},
   "outputs": [],
   "source": [
    "X, y = train_generator[0]\n",
    "print(\"#Length of training data:\\n\",X); print(\"\\n#Prdicting:\",y); "
   ]
  },
  {
   "cell_type": "markdown",
   "metadata": {},
   "source": [
    "# <font color=\"gold\"><ins><b>Step7: Building the LSTM Model</ins></b></font>\n",
    "__Building a model__ <br>\n",
    "Let's first see what we need to do when we want to train a model\n",
    "\n",
    "- First, we want to decide a model architecture, this is the number of hidden layers and activation functions, etc (___compile___)\n",
    "- Secondly, we will want to train our model to get all the paramters to the correct value to map our inputs to our outputs (___fit___)\n",
    "- Lastly, we will want to use this model to do some feed-forward passes to predict novel inputs (___predict___)"
   ]
  },
  {
   "cell_type": "code",
   "execution_count": null,
   "metadata": {},
   "outputs": [],
   "source": [
    "from keras.models import Sequential\n",
    "from keras.layers import Dense, LSTM \n",
    "\n",
    "model = Sequential()\n",
    "model.add((LSTM(150, activation='relu', input_shape=(n_input, n_features))))\n",
    "model.add(Dense(1))\n",
    "model.compile(optimizer='adam', loss='mse')\n",
    "model.summary()"
   ]
  },
  {
   "cell_type": "code",
   "execution_count": null,
   "metadata": {},
   "outputs": [],
   "source": [
    "model.fit_generator(train_generator, epochs=40)"
   ]
  },
  {
   "cell_type": "code",
   "execution_count": null,
   "metadata": {},
   "outputs": [],
   "source": [
    "model.history.history.keys()"
   ]
  },
  {
   "cell_type": "markdown",
   "metadata": {},
   "source": [
    "# <font color=\"gold\"><ins><b>Step8: Visualizing the fitted model</ins></b></font>"
   ]
  },
  {
   "cell_type": "code",
   "execution_count": null,
   "metadata": {},
   "outputs": [],
   "source": [
    "loss_per_epoch = model.history.history['loss']\n",
    "plt.plot(range(len(loss_per_epoch)),loss_per_epoch);"
   ]
  },
  {
   "cell_type": "markdown",
   "metadata": {},
   "source": [
    "# <font color=\"gold\"><ins><b>Step9: Evaluation Batch on Test Data</b></ins></font>\n",
    "Model is working on the monthly data for a sequence of ___(12 hsitory points)___ -> ___(13th point)___ <br>\n",
    "So we have to have last ___(12 point of train data)___ -> to predict ___(13th step)___"
   ]
  },
  {
   "cell_type": "code",
   "execution_count": null,
   "metadata": {},
   "outputs": [],
   "source": [
    "first_eval_batch = scaled_train_data[-n_input:]"
   ]
  },
  {
   "cell_type": "code",
   "execution_count": null,
   "metadata": {},
   "outputs": [],
   "source": [
    "first_eval_batch = first_eval_batch.reshape((1, n_input, n_features))\n",
    "first_eval_batch.shape"
   ]
  },
  {
   "cell_type": "code",
   "execution_count": null,
   "metadata": {},
   "outputs": [],
   "source": [
    "model.predict(first_eval_batch)\n",
    "# This results that, taking n_input values, below given output must be the first value of the test data-set"
   ]
  },
  {
   "cell_type": "code",
   "execution_count": null,
   "metadata": {},
   "outputs": [],
   "source": [
    "scaled_test_data[0]"
   ]
  },
  {
   "cell_type": "markdown",
   "metadata": {},
   "source": [
    "# <font color=\"gold\"><ins><b>Step10: Predicting using RNN Model</ins></b></font>"
   ]
  },
  {
   "cell_type": "code",
   "execution_count": null,
   "metadata": {},
   "outputs": [],
   "source": [
    "# Holds the predections\n",
    "test_predictions = []\n",
    "\n",
    "# last n_input points from the training dataset\n",
    "first_eval_batch = scaled_train_data[-n_input:]\n",
    "# Reshaping it to the format RNN expects\n",
    "current_batch = first_eval_batch.reshape((1, n_input, n_features))\n",
    "\n",
    "# How far to predict?\n",
    "for i in range(len(test)):\n",
    "    \n",
    "    # get prediction 1 time stamp ahead ([0] is for grabbing just the number instead of [array])\n",
    "    current_pred = model.predict(current_batch)[0]\n",
    "    \n",
    "    # store prediction\n",
    "    test_predictions.append(current_pred) \n",
    "    \n",
    "    # update batch to now include prediction and drop first value\n",
    "    current_batch = np.append(current_batch[:,1:,:],[[current_pred]],axis=1)"
   ]
  },
  {
   "cell_type": "code",
   "execution_count": null,
   "metadata": {},
   "outputs": [],
   "source": [
    "test_predictions"
   ]
  },
  {
   "cell_type": "code",
   "execution_count": null,
   "metadata": {},
   "outputs": [],
   "source": [
    "scaled_test_data"
   ]
  },
  {
   "cell_type": "markdown",
   "metadata": {},
   "source": [
    "# <font color=\"gold\"><ins><b>Step11: Inverse Transformations and Comparison</b></ins></font>"
   ]
  },
  {
   "cell_type": "code",
   "execution_count": null,
   "metadata": {},
   "outputs": [],
   "source": [
    "true_predictions = scaler.inverse_transform(test_predictions)"
   ]
  },
  {
   "cell_type": "code",
   "execution_count": null,
   "metadata": {},
   "outputs": [],
   "source": [
    "test.head()"
   ]
  },
  {
   "cell_type": "code",
   "execution_count": null,
   "metadata": {},
   "outputs": [],
   "source": [
    "test['Predictions'] = true_predictions\n",
    "test.plot(figsize=(12,8));"
   ]
  },
  {
   "cell_type": "markdown",
   "metadata": {},
   "source": [
    "# <font color=\"gold\"><ins><b>Step12: Saving and loading the model</b></ins></font>"
   ]
  },
  {
   "cell_type": "code",
   "execution_count": null,
   "metadata": {},
   "outputs": [],
   "source": [
    "model.save(\"./saved_models/LSTM_Alcohol_Sales\")"
   ]
  },
  {
   "cell_type": "code",
   "execution_count": null,
   "metadata": {},
   "outputs": [],
   "source": [
    "from keras.models import load_model\n",
    "new_model = load_model(\"./saved_models/LSTM_Alcohol_Sales\")\n",
    "new_model.summary()"
   ]
  }
 ],
 "metadata": {
  "kernelspec": {
   "display_name": "Python 3",
   "language": "python",
   "name": "python3"
  },
  "language_info": {
   "codemirror_mode": {
    "name": "ipython",
    "version": 3
   },
   "file_extension": ".py",
   "mimetype": "text/x-python",
   "name": "python",
   "nbconvert_exporter": "python",
   "pygments_lexer": "ipython3",
   "version": "3.7.7"
  }
 },
 "nbformat": 4,
 "nbformat_minor": 4
}
