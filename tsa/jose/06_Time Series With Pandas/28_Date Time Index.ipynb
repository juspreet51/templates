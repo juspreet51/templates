{
 "cells": [
  {
   "cell_type": "code",
   "execution_count": 1,
   "metadata": {},
   "outputs": [],
   "source": [
    "from datetime import datetime"
   ]
  },
  {
   "cell_type": "code",
   "execution_count": 7,
   "metadata": {},
   "outputs": [],
   "source": [
    "my_year = 2020\n",
    "my_month = 1\n",
    "my_day = 2\n",
    "my_hour = 13\n",
    "my_min = 30\n",
    "my_sec = 15"
   ]
  },
  {
   "cell_type": "code",
   "execution_count": 5,
   "metadata": {},
   "outputs": [
    {
     "data": {
      "text/plain": [
       "datetime.datetime(2020, 1, 2, 0, 0)"
      ]
     },
     "execution_count": 5,
     "metadata": {},
     "output_type": "execute_result"
    }
   ],
   "source": [
    "my_date = datetime(my_year, my_month, my_day)\n",
    "my_date"
   ]
  },
  {
   "cell_type": "code",
   "execution_count": 13,
   "metadata": {},
   "outputs": [
    {
     "data": {
      "text/plain": [
       "datetime.datetime(2020, 1, 2, 13, 30, 15)"
      ]
     },
     "execution_count": 13,
     "metadata": {},
     "output_type": "execute_result"
    }
   ],
   "source": [
    "my_date = datetime(my_year, my_month, my_day, my_hour, my_min, my_sec)\n",
    "my_date"
   ]
  },
  {
   "cell_type": "code",
   "execution_count": 16,
   "metadata": {},
   "outputs": [
    {
     "data": {
      "text/plain": [
       "15"
      ]
     },
     "execution_count": 16,
     "metadata": {},
     "output_type": "execute_result"
    }
   ],
   "source": [
    "my_date.second"
   ]
  },
  {
   "cell_type": "markdown",
   "metadata": {},
   "source": [
    "## Numpy as date ranges"
   ]
  },
  {
   "cell_type": "code",
   "execution_count": 24,
   "metadata": {},
   "outputs": [
    {
     "name": "stdout",
     "output_type": "stream",
     "text": [
      "Hour level:  ['2020-01-10T00' '2020-02-01T00' '2020-03-05T00']\n",
      "Day level:  ['2020-01-10' '2020-02-01' '2020-03-05']\n"
     ]
    }
   ],
   "source": [
    "import numpy as np\n",
    "print(\"Hour level: \",np.array(['2020-01-10','2020-02','2020-03-05'],dtype='datetime64[h]'))\n",
    "print(\"Day level: \",np.array(['2020-01-10','2020-02','2020-03-05'],dtype='datetime64[D]'))"
   ]
  },
  {
   "cell_type": "code",
   "execution_count": 30,
   "metadata": {},
   "outputs": [
    {
     "name": "stdout",
     "output_type": "stream",
     "text": [
      "1) Yearly step size:  ['1968' '1969' '1970' '1971']\n",
      "\n",
      "2)Daily step size:  ['1968-01-01' '1968-01-02' '1968-01-03' '1968-01-04' '1968-01-05'\n",
      " '1968-01-06' '1968-01-07' '1968-01-08' '1968-01-09' '1968-01-10'\n",
      " '1968-01-11' '1968-01-12' '1968-01-13' '1968-01-14' '1968-01-15'\n",
      " '1968-01-16' '1968-01-17' '1968-01-18' '1968-01-19' '1968-01-20'\n",
      " '1968-01-21' '1968-01-22' '1968-01-23' '1968-01-24' '1968-01-25'\n",
      " '1968-01-26' '1968-01-27' '1968-01-28' '1968-01-29' '1968-01-30']\n",
      "\n",
      "3)Weekly step size:  ['1968-01-01' '1968-01-08' '1968-01-15' '1968-01-22' '1968-01-29']\n"
     ]
    }
   ],
   "source": [
    "print(\"1) Yearly step size: \",np.arange('1968','1972',dtype='datetime64[Y]'))\n",
    "print(\"\\n2)Daily step size: \",np.arange('1968-01-01','1968-01-31',dtype='datetime64[D]'))\n",
    "print(\"\\n3)Weekly step size: \",np.arange('1968-01-01','1968-01-31',7,dtype='datetime64[D]'))"
   ]
  }
 ],
 "metadata": {
  "kernelspec": {
   "display_name": "Python 3",
   "language": "python",
   "name": "python3"
  },
  "language_info": {
   "codemirror_mode": {
    "name": "ipython",
    "version": 3
   },
   "file_extension": ".py",
   "mimetype": "text/x-python",
   "name": "python",
   "nbconvert_exporter": "python",
   "pygments_lexer": "ipython3",
   "version": "3.7.2"
  }
 },
 "nbformat": 4,
 "nbformat_minor": 4
}
