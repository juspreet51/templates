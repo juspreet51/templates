{
 "cells": [
  {
   "cell_type": "markdown",
   "metadata": {},
   "source": [
    "# Keras Basics\n",
    "> Refer to [this notebook](https://github.com/juspreet51/templates/tree/master/tf_keras/01_ANN)  <br>\n",
    "___"
   ]
  },
  {
   "cell_type": "markdown",
   "metadata": {},
   "source": [
    "## Previously, we could access the Dense module from Keras with the following import statement\n",
    "> <font color=\"purple\">from</font> keras<font color=\"purple\">.</font>layers <font color=\"purple\">import</font> <font color=\"yellow\">Dense</font>\n",
    "\n",
    "## Now, using Keras with TensorFlow, the import statement looks like this:\n",
    "> <font color=\"purple\">from</font> tensorflow<font color=\"purple\">.</font>keras<font color=\"purple\">.</font>layers <font color=\"purple\">import</font> <font color=\"yellow\">Dense</font>\n",
    "___\n",
    "## Before TensorFlow Integration\n",
    "\n",
    "<font color=\"purple\">import</font> <font color=\"orange\">keras</font><br>\n",
    "<font color=\"purple\">from</font> keras<font color=\"purple\">.</font>models <font color=\"purple\">import</font> <font color=\"orange\">Sequential</font><br>\n",
    "<font color=\"purple\">from</font> keras<font color=\"purple\">.</font>layers <font color=\"purple\">import</font> <font color=\"orange\">Activation</font><br>\n",
    "<font color=\"purple\">from</font> keras<font color=\"purple\">.</font>layers<font color=\"purple\">.</font>core <font color=\"purple\">import</font> <font color=\"orange\">Dense</font><br>\n",
    "<font color=\"purple\">from</font> keras.layers.normalization <font color=\"purple\">import</font> <font color=\"orange\">BatchNormalization</font><br>\n",
    "<font color=\"purple\">from</font> keras.layers.convolutional <font color=\"purple\">import</font> <font color=\"orange\">Conv2D</font><br>\n",
    "<font color=\"purple\">from</font> keras<font color=\"purple\">.</font>optimizers <font color=\"purple\">import</font> <font color=\"orange\">Adam</font><br>\n",
    "<font color=\"purple\">from</font> keras<font color=\"purple\">.</font>metrics <font color=\"purple\">import</font> <font color=\"orange\">categorical_crossentropy</font><br>\n",
    "<font color=\"purple\">from</font> keras.preprocessing.image <font color=\"purple\">import</font> <font color=\"orange\">ImageDataGenerator</font><br>\n",
    "\n",
    "\n",
    "## After TensorFlow Integration\n",
    "\n",
    "<font color=\"purple\">import</font> <font color=\"orange\">tensorflow</font><br>\n",
    "<font color=\"purple\">from</font> tensorflow <font color=\"purple\">import</font> <font color=\"orange\">keras</font><br>\n",
    "<font color=\"purple\">from</font> tensorflow<font color=\"purple\">.</font>keras<font color=\"purple\">.</font>models <font color=\"purple\">import</font> <font color=\"orange\">Sequential</font><br>\n",
    "<font color=\"purple\">from</font> tensorflow<font color=\"purple\">.</font>keras.layers <font color=\"purple\">import</font> <font color=\"orange\">Activation, Dense, BatchNormalization, Conv2D</font><br>\n",
    "<font color=\"purple\">from</font> tensorflow<font color=\"purple\">.</font>keras<font color=\"purple\">.</font>optimizers <font color=\"purple\">import</font> <font color=\"orange\">Adam</font><br>\n",
    "<font color=\"purple\">from</font> tensorflow.<font color=\"purple\"></font>keras<font color=\"purple\">.</font>metrics <font color=\"purple\">import</font> <font color=\"orange\">categorical_crossentropy</font><br>\n",
    "<font color=\"purple\">from</font> tensorflow<font color=\"purple\">.</font>keras<font color=\"purple\">.</font>preprocessing<font color=\"purple\">.</font>image <font color=\"purple\">import</font> <font color=\"orange\">ImageDataGenerator</font><br>\n",
    "___"
   ]
  },
  {
   "cell_type": "code",
   "execution_count": 2,
   "metadata": {},
   "outputs": [],
   "source": [
    "import pandas as pd\n",
    "import numpy as np\n",
    "\n",
    "import matplotlib.pyplot as plt\n",
    "%matplotlib inline\n",
    "\n",
    "import tensorflow as tf\n",
    "import keras"
   ]
  },
  {
   "cell_type": "markdown",
   "metadata": {},
   "source": [
    "# Data Generation\n",
    "## y=mx+b+noise"
   ]
  },
  {
   "cell_type": "code",
   "execution_count": null,
   "metadata": {},
   "outputs": [],
   "source": [
    "m, b, x = 2, 3, np.linspace(0,50,100)\n",
    "\n",
    "np.random.seed(101)\n",
    "noise = np.random.normal(loc=0,scale=4,size=len(x))  #centered at Zero, with scale or STD of 4 and length is equal to x\n",
    "\n",
    "y = m*x + b + noise\n",
    "plt.plot(x,y,\"+\");"
   ]
  },
  {
   "cell_type": "markdown",
   "metadata": {},
   "source": [
    "## Creating a best fit line for the above data"
   ]
  },
  {
   "cell_type": "code",
   "execution_count": null,
   "metadata": {},
   "outputs": [],
   "source": [
    "# Will allow adding a sequence of layers above each other\n",
    "from keras.models import Sequential\n",
    "\n",
    "# Will allow the connectivity between all the neurons from previous layers to be connected to next layer, i.e. yielding a dense interconnection\n",
    "from keras.layers.core import Dense"
   ]
  }
 ],
 "metadata": {
  "kernelspec": {
   "display_name": "Python 3",
   "language": "python",
   "name": "python3"
  },
  "language_info": {
   "codemirror_mode": {
    "name": "ipython",
    "version": 3
   },
   "file_extension": ".py",
   "mimetype": "text/x-python",
   "name": "python",
   "nbconvert_exporter": "python",
   "pygments_lexer": "ipython3",
   "version": "3.7.7"
  }
 },
 "nbformat": 4,
 "nbformat_minor": 4
}
