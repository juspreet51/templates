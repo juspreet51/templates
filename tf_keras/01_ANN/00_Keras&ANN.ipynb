{
 "cells": [
  {
   "cell_type": "markdown",
   "metadata": {},
   "source": [
    "# <font color=\"yellow\">Step1)</font> Pre-Requisites"
   ]
  },
  {
   "cell_type": "markdown",
   "metadata": {},
   "source": [
    "# <font color=\"yellow\">Step2)</font> GPU Support"
   ]
  },
  {
   "cell_type": "markdown",
   "metadata": {},
   "source": [
    "# <font color=\"yellow\">Step3)</font> Data Processing For  ANN"
   ]
  },
  {
   "cell_type": "code",
   "execution_count": 1,
   "metadata": {},
   "outputs": [],
   "source": [
    "import numpy as np\n",
    "from random import randint\n",
    "from sklearn.utils import shuffle\n",
    "from sklearn.preprocessing import MinMaxScaler\n",
    "\n",
    "# Next, we create two empty lists. One will hold the input data, the other will hold the target data.\n",
    "train_labels = []\n",
    "train_samples = []"
   ]
  },
  {
   "cell_type": "markdown",
   "metadata": {},
   "source": [
    "## Suppose that an experimental drug was tested on individuals ranging from age 13 to 100 in a clinical trial. The trial had 2100 participants\n",
    "> 95% 0f 65+ had side effects\n",
    "> 95% of 65- didn't had side effects\n",
    "\n",
    "<font color=\"orange\">__So we want to build a model to tell us whether or not a patient will experience side effects solely based on the patient's age__</font>\n",
    "\n",
    "```\n",
    "This code creates 2100 samples and stores the age of the individuals in the train_samples list and stores whether or \n",
    "not the individuals experienced side effects in the train_labels list.\n",
    "```"
   ]
  },
  {
   "cell_type": "code",
   "execution_count": 2,
   "metadata": {},
   "outputs": [],
   "source": [
    "# Patients who experienced side-effects\n",
    "for i in range(50):\n",
    "    # The ~5% of younger individuals who did experience side effects\n",
    "    random_younger = randint(13,64)  # Age of patients: 13-64\n",
    "    train_samples.append(random_younger)\n",
    "    train_labels.append(1)\n",
    "\n",
    "    # The ~5% of older individuals who did not experience side effects\n",
    "    random_older = randint(65,100)  # Age of patients: 65-100\n",
    "    train_samples.append(random_older)\n",
    "    train_labels.append(0)\n",
    "\n",
    "# Patients who didn't experienced side-effects\n",
    "for i in range(1000):\n",
    "    # The ~95% of younger individuals who did not experience side effects\n",
    "    random_younger = randint(13,64)\n",
    "    train_samples.append(random_younger)\n",
    "    train_labels.append(0)\n",
    "\n",
    "    # The ~95% of older individuals who did experience side effects\n",
    "    random_older = randint(65,100)\n",
    "    train_samples.append(random_older)\n",
    "    train_labels.append(1)"
   ]
  },
  {
   "cell_type": "code",
   "execution_count": 3,
   "metadata": {},
   "outputs": [
    {
     "name": "stdout",
     "output_type": "stream",
     "text": [
      "Len of Train Samples: 2100\n",
      "22, 68, 13, 94, 31, 84, 14, 81, 17, 92, 53, 98, 33, 84, 32, \n",
      "Len of Train Labels: 2100\n",
      "1, 0, 1, 0, 1, 0, 1, 0, 1, 0, 1, 0, 1, 0, 1, "
     ]
    }
   ],
   "source": [
    "print(\"Len of Train Samples:\",len(train_samples))\n",
    "for i in train_samples[:15]:\n",
    "    print(i, end=\", \")\n",
    "\n",
    "print(\"\\nLen of Train Labels:\",len(train_labels))\n",
    "for i in train_labels[:15]:\n",
    "    print(i, end=\", \")\n"
   ]
  },
  {
   "cell_type": "markdown",
   "metadata": {},
   "source": [
    "### Data Processing\n",
    "We now convert both lists into numpy arrays due to what we discussed the fit() function expects\n",
    "<br> And we then shuffle the arrays to remove any order that was imposed on the data during the creation process."
   ]
  },
  {
   "cell_type": "code",
   "execution_count": 4,
   "metadata": {},
   "outputs": [],
   "source": [
    "train_labels = np.array(train_labels)\n",
    "train_samples = np.array(train_samples)\n",
    "train_labels, train_samples = shuffle(train_labels, train_samples)\n",
    "\n",
    "# We'll use scikit-learn’s MinMaxScaler class to scale all of the data down from a scale ranging from 13 to 100 to be on a scale from 0 to 1.\n",
    "scaler = MinMaxScaler(feature_range=(0,1))\n",
    "scaled_train_samples = scaler.fit_transform(train_samples.reshape(-1,1))\n",
    "# We reshape the data since the fit_transform() function, used in few next steps, doesn’t accept 1D data by default."
   ]
  },
  {
   "cell_type": "markdown",
   "metadata": {},
   "source": [
    "# <font color=\"yellow\">Step4)</font> Create an Artificial Neural Network with TensorFlow's Keras API"
   ]
  },
  {
   "cell_type": "markdown",
   "metadata": {},
   "source": [
    "Previously, we could access the Dense module from Keras with the following import statement\n",
    "```\n",
    " from keras.layers import Dense\n",
    "```\n",
    "\n",
    "Now, using Keras with TensorFlow, the import statement looks like this:\n",
    "```\n",
    "from tensorflow.keras.layers import Dense\n",
    "```\n",
    "\n",
    "___"
   ]
  },
  {
   "cell_type": "markdown",
   "metadata": {},
   "source": [
    "## <font color=\"green\">Before TensorFlow Integration</font>\n",
    "```\n",
    "import keras\n",
    "from keras.models import Sequential\n",
    "from keras.layers import Activation\n",
    "from keras.layers.core import Dense\n",
    "from keras.optimizers import Adam\n",
    "from keras.metrics import categorical_crossentropy\n",
    "from keras.preprocessing.image import ImageDataGenerator\n",
    "from keras.layers.normalization import BatchNormalization\n",
    "from keras.layers.convolutional import Conv2D\n",
    "```\n",
    "\n",
    "## <font color=\"green\">After TensorFlow Integration</font>\n",
    "```\n",
    "import tensorflow\n",
    "from tensorflow import keras\n",
    "from tensorflow.keras.models import Sequential\n",
    "from tensorflow.keras.layers import Activation, Dense, BatchNormalization, Conv2D\n",
    "from tensorflow.keras.optimizers import Adam\n",
    "from tensorflow.keras.metrics import categorical_crossentropy\n",
    "from tensorflow.keras.preprocessing.image import ImageDataGenerator\n",
    "```"
   ]
  },
  {
   "cell_type": "markdown",
   "metadata": {},
   "source": [
    "## <font color=\"orange\">First, we need to import all the libraries we’ll be making use of</font>\n"
   ]
  },
  {
   "cell_type": "code",
   "execution_count": 5,
   "metadata": {},
   "outputs": [],
   "source": [
    "# Note these modules would be used for creation of ANN\n",
    "import tensorflow as tf\n",
    "from tensorflow import keras\n",
    "from tensorflow.keras.models import Sequential\n",
    "from tensorflow.keras.layers import Activation, Dense\n",
    "\n",
    "# Note that we'll make use of these two modules in the next episode when we train the model.\n",
    "from tensorflow.keras.optimizers import Adam\n",
    "from tensorflow.keras.metrics import categorical_crossentropy"
   ]
  },
  {
   "cell_type": "markdown",
   "metadata": {},
   "source": [
    "## <font color=\"orange\">Build A Sequential Model</font>"
   ]
  },
  {
   "cell_type": "code",
   "execution_count": 6,
   "metadata": {},
   "outputs": [],
   "source": [
    "# \"model\" is an instance of a Sequential object\n",
    "# A tf.keras.Sequential model is a linear stack of layers\n",
    "# It accepts a list, and each element in the list should be a layer.\n",
    "\n",
    "model = Sequential([\n",
    "    Dense(units=16, input_shape=(1,), activation='relu'),\n",
    "    Dense(units=32, activation='relu'),\n",
    "    Dense(units=2, activation='softmax')\n",
    "])"
   ]
  },
  {
   "cell_type": "markdown",
   "metadata": {},
   "source": [
    "### First Hidden Layer:\n",
    "- Our first layer is a <font color=\"red\">__Dense layer__</font>. This type of layer is our standard fully-connected or densely-connected neural network layer. <br>\n",
    "> Dense Layer will allow the connectivity between all the neurons from previous layers to be connected to next layer, i.e. yielding a dense interconnection <br>\n",
    "\n",
    "- The first required parameter that the Dense layer expects is the number of neurons or <font color=\"red\">__units__ </font> the layer has, and we’re arbitrarily setting this to 16.\n",
    "\n",
    "- Additionally, the model needs to know the ___shape of the input data___. For this reason, we specify the shape of the input data in the first hidden layer in the model (and ___only this layer___). The parameter called <font color=\"red\">__input_shape__</font> is how we specify this.\n",
    "\n",
    "- An optional parameter that we’ll set for the Dense layer is the <font color=\"red\">__activation function__</font> to use after this layer. We’ll use the popular choice of __relu__. Note, if you don’t explicitly set an activation function, then ___Keras will use the linear activation function as default activation function___."
   ]
  },
  {
   "cell_type": "markdown",
   "metadata": {},
   "source": [
    "## Second Hidden Layer\n",
    "Our next layer will also be a <font color=\"red\">__Dense layer__</font>, and this one will have <font color=\"red\">__32 nodes__</font>. The choice of how many neurons this node has is also arbitrary"
   ]
  },
  {
   "cell_type": "markdown",
   "metadata": {},
   "source": [
    "## Output Layer\n",
    "Lastly, we specify the output layer. This layer is also a <font color=\"red\">__Dense layer__</font>, and it will have <font color=\"red\">__2 neurons__</font>. <br>\n",
    "This is because we have two possible outputs: _either a patient experienced side effects, or the patient did not experience side effects_.\n",
    "\n",
    "This time, the activation function we’ll use is <font color=\"red\">__softmax__</font>, which will give us a probability distribution among the possible outputs."
   ]
  },
  {
   "cell_type": "code",
   "execution_count": 7,
   "metadata": {},
   "outputs": [
    {
     "name": "stdout",
     "output_type": "stream",
     "text": [
      "Model: \"sequential\"\n",
      "_________________________________________________________________\n",
      "Layer (type)                 Output Shape              Param #   \n",
      "=================================================================\n",
      "dense (Dense)                (None, 16)                32        \n",
      "_________________________________________________________________\n",
      "dense_1 (Dense)              (None, 32)                544       \n",
      "_________________________________________________________________\n",
      "dense_2 (Dense)              (None, 2)                 66        \n",
      "=================================================================\n",
      "Total params: 642\n",
      "Trainable params: 642\n",
      "Non-trainable params: 0\n",
      "_________________________________________________________________\n"
     ]
    }
   ],
   "source": [
    "# Note that we can call summary() on our model to get a quick visualization of it.\n",
    "model.summary()"
   ]
  },
  {
   "cell_type": "markdown",
   "metadata": {},
   "source": [
    "___\n",
    "__Next__: Next we’ll train this model on the data we created last time.\n",
    "___"
   ]
  },
  {
   "cell_type": "markdown",
   "metadata": {},
   "source": [
    "# <font color=\"yellow\">Step5)</font> Train & Fit ANN"
   ]
  },
  {
   "cell_type": "markdown",
   "metadata": {},
   "source": [
    "## <font color=\"orange\">Training The Model</font>"
   ]
  },
  {
   "cell_type": "code",
   "execution_count": null,
   "metadata": {},
   "outputs": [],
   "source": [
    "# Compiling The Model\n",
    "# The first thing we need to do to get the model ready for training is call the compile() function on it.\n",
    "model1.compile(optimizer=Adam(learning_rate=0.0001), loss='sparse_categorical_crossentropy', metrics=['accuracy'])"
   ]
  },
  {
   "cell_type": "markdown",
   "metadata": {},
   "source": [
    "First, we specify the optimizer <font color=\"teal\">__Adam__</font>. <font color=\"teal\">__Adam__</font> accepts an optional parameter <font color=\"teal\">__learning_rate__</font>, which we’ll set to 0.0001 <br>\n",
    "___Adam optimization is a stochastic gradient descent (SGD) method___\n",
    "\n",
    "The next parameter we specify is <font color=\"teal\">__loss__</font>. We’ll be using <font color=\"teal\">__sparse_categorical_crossentropy__</font>, given that _our labels are in integer format_\n",
    "\n",
    "when we have only two classes, we could instead configure our output layer to have only one output, rather than two, and use ___binary_crossentropy___ as our loss, rather than ___categorical_crossentropy___. Both options work equally well and achieve the exact same result.\n",
    "\n",
    "With binary_crossentropy, however, the last layer would need to use sigmoid, rather than softmax, as its activation function.\n",
    "\n",
    "The last parameter we specify in ___compile()___ is <font color=\"teal\">__metrics__</font> <br>\n",
    "This parameter expects a _list of metrics that we’d like to be evaluated by the model during training and testing_. We’ll set this to a list that contains the string ___‘accuracy’___.\n",
    "\n",
    "\n"
   ]
  },
  {
   "cell_type": "markdown",
   "metadata": {},
   "source": [
    "## <font color=\"orange\">Fitting the model</font>"
   ]
  },
  {
   "cell_type": "code",
   "execution_count": null,
   "metadata": {},
   "outputs": [],
   "source": [
    "model1.fit(x=scaled_train_samples, y=train_labels, batch_size=10, epochs=30, verbose=2)"
   ]
  },
  {
   "cell_type": "markdown",
   "metadata": {},
   "source": [
    "## <font color=\"orange\">Observations from result</font>\n",
    "The first item that we pass in to the fit() function is the training set __x__, i.e. _scaled_train_samples_ <br>\n",
    "The next parameter that we set is the labels for the training set __y__, which we previously gave the name _train_labels_\n",
    "\n",
    "We then specify the batch_size. Again, the concept of <font color=\"red\">__batch size__</font> is covered in detail in the [Deep Learning Fundamentals course](https://deeplizard.com/learn/playlist/PLZbbT5o_s2xq7LwI2y8_QtvuXZedL6tQU).\n",
    "\n",
    "Next, we specify how many <font color=\"red\">__epochs__</font> we want to run. We set this to 30. Note that an epoch is a single pass of all the data to the network.\n",
    "\n",
    "Lastly, we specify <font color=\"red\">__verbose=2__</font>. This just specifies how much output to the console we want to see during each epoch of training. The verbosity levels range from 0 to 2, so we’re getting the most verbose output.\n",
    "\n",
    "When we call <font color=\"red\">__fit()__</font>. on the model, the model trains, and we get this output.\n"
   ]
  },
  {
   "cell_type": "markdown",
   "metadata": {},
   "source": [
    "### We can see corresponding output for each of the <font color=\"red\">__30 epochs__</font>. Judging by the <font color=\"red\">__loss and accuracy__</font>, we can see that both metrics steadily improve over time with accuracy reaching almost <font color=\"red\">__93%__</font> and loss steadily decreasing until we reach <font color=\"red\">__0.27__</font>"
   ]
  },
  {
   "cell_type": "markdown",
   "metadata": {},
   "source": [
    "# <font color=\"yellow\">Step6)</font> Building A __Validation Set__\n",
    "After training a model, we want to make sure that our trained model could work fine also with new data that would be fed to it in future. <br>\n",
    "To assure this confirmity, we expose the data to a new set of values which our trianed model has never seen before and then we note how our data is performing, i,e, _checking if trained model is generalising well or not and what are it's accuracy with newly exposed data_ <br>\n",
    "\n",
    "This <font color=\"red\">__Validation set__</font> can be created by taking subset of the training data before performing any operation on it, and separate it as a different set and labeling it as ___Validation Set___"
   ]
  },
  {
   "cell_type": "code",
   "execution_count": 8,
   "metadata": {},
   "outputs": [
    {
     "name": "stdout",
     "output_type": "stream",
     "text": [
      "Epoch 1/30\n",
      "189/189 - 0s - loss: 0.6806 - accuracy: 0.4783 - val_loss: 0.6649 - val_accuracy: 0.5143\n",
      "Epoch 2/30\n",
      "189/189 - 0s - loss: 0.6446 - accuracy: 0.5974 - val_loss: 0.6324 - val_accuracy: 0.6095\n",
      "Epoch 3/30\n",
      "189/189 - 0s - loss: 0.6117 - accuracy: 0.6825 - val_loss: 0.6004 - val_accuracy: 0.6857\n",
      "Epoch 4/30\n",
      "189/189 - 0s - loss: 0.5752 - accuracy: 0.7545 - val_loss: 0.5649 - val_accuracy: 0.7762\n",
      "Epoch 5/30\n",
      "189/189 - 0s - loss: 0.5412 - accuracy: 0.7894 - val_loss: 0.5331 - val_accuracy: 0.8095\n",
      "Epoch 6/30\n",
      "189/189 - 0s - loss: 0.5088 - accuracy: 0.8222 - val_loss: 0.5022 - val_accuracy: 0.8333\n",
      "Epoch 7/30\n",
      "189/189 - 0s - loss: 0.4775 - accuracy: 0.8429 - val_loss: 0.4725 - val_accuracy: 0.8476\n",
      "Epoch 8/30\n",
      "189/189 - 0s - loss: 0.4476 - accuracy: 0.8603 - val_loss: 0.4452 - val_accuracy: 0.8714\n",
      "Epoch 9/30\n",
      "189/189 - 0s - loss: 0.4200 - accuracy: 0.8661 - val_loss: 0.4202 - val_accuracy: 0.8857\n",
      "Epoch 10/30\n",
      "189/189 - 0s - loss: 0.3949 - accuracy: 0.8873 - val_loss: 0.3979 - val_accuracy: 0.8857\n",
      "Epoch 11/30\n",
      "189/189 - 1s - loss: 0.3732 - accuracy: 0.8921 - val_loss: 0.3795 - val_accuracy: 0.8952\n",
      "Epoch 12/30\n",
      "189/189 - 1s - loss: 0.3543 - accuracy: 0.8995 - val_loss: 0.3645 - val_accuracy: 0.9048\n",
      "Epoch 13/30\n",
      "189/189 - 0s - loss: 0.3384 - accuracy: 0.9106 - val_loss: 0.3512 - val_accuracy: 0.9048\n",
      "Epoch 14/30\n",
      "189/189 - 0s - loss: 0.3253 - accuracy: 0.9132 - val_loss: 0.3415 - val_accuracy: 0.9190\n",
      "Epoch 15/30\n",
      "189/189 - 0s - loss: 0.3147 - accuracy: 0.9233 - val_loss: 0.3332 - val_accuracy: 0.9190\n",
      "Epoch 16/30\n",
      "189/189 - 0s - loss: 0.3055 - accuracy: 0.9217 - val_loss: 0.3272 - val_accuracy: 0.9238\n",
      "Epoch 17/30\n",
      "189/189 - 0s - loss: 0.2981 - accuracy: 0.9280 - val_loss: 0.3217 - val_accuracy: 0.9238\n",
      "Epoch 18/30\n",
      "189/189 - 0s - loss: 0.2921 - accuracy: 0.9270 - val_loss: 0.3180 - val_accuracy: 0.9238\n",
      "Epoch 19/30\n",
      "189/189 - 0s - loss: 0.2869 - accuracy: 0.9317 - val_loss: 0.3137 - val_accuracy: 0.9238\n",
      "Epoch 20/30\n",
      "189/189 - 0s - loss: 0.2825 - accuracy: 0.9291 - val_loss: 0.3115 - val_accuracy: 0.9238\n",
      "Epoch 21/30\n",
      "189/189 - 0s - loss: 0.2786 - accuracy: 0.9286 - val_loss: 0.3109 - val_accuracy: 0.9286\n",
      "Epoch 22/30\n",
      "189/189 - 0s - loss: 0.2756 - accuracy: 0.9333 - val_loss: 0.3075 - val_accuracy: 0.9286\n",
      "Epoch 23/30\n",
      "189/189 - 1s - loss: 0.2729 - accuracy: 0.9360 - val_loss: 0.3048 - val_accuracy: 0.9238\n",
      "Epoch 24/30\n",
      "189/189 - 0s - loss: 0.2704 - accuracy: 0.9349 - val_loss: 0.3042 - val_accuracy: 0.9286\n",
      "Epoch 25/30\n",
      "189/189 - 0s - loss: 0.2684 - accuracy: 0.9376 - val_loss: 0.3020 - val_accuracy: 0.9286\n",
      "Epoch 26/30\n",
      "189/189 - 0s - loss: 0.2666 - accuracy: 0.9339 - val_loss: 0.3015 - val_accuracy: 0.9286\n",
      "Epoch 27/30\n",
      "189/189 - 0s - loss: 0.2647 - accuracy: 0.9402 - val_loss: 0.2990 - val_accuracy: 0.9238\n",
      "Epoch 28/30\n",
      "189/189 - 1s - loss: 0.2635 - accuracy: 0.9376 - val_loss: 0.2996 - val_accuracy: 0.9286\n",
      "Epoch 29/30\n",
      "189/189 - 1s - loss: 0.2622 - accuracy: 0.9376 - val_loss: 0.2992 - val_accuracy: 0.9286\n",
      "Epoch 30/30\n",
      "189/189 - 1s - loss: 0.2608 - accuracy: 0.9376 - val_loss: 0.2981 - val_accuracy: 0.9286\n"
     ]
    },
    {
     "data": {
      "text/plain": [
       "<tensorflow.python.keras.callbacks.History at 0x223adf69fc8>"
      ]
     },
     "execution_count": 8,
     "metadata": {},
     "output_type": "execute_result"
    }
   ],
   "source": [
    "# Compiling The Model\n",
    "# The first thing we need to do to get the model ready for training is call the compile() function on it.\n",
    "model.compile(optimizer=Adam(learning_rate=0.0001), loss='sparse_categorical_crossentropy', metrics=['accuracy'])\n",
    "model.fit(x=scaled_train_samples, y=train_labels, validation_split=0.1, batch_size=10, epochs=30, verbose=2)"
   ]
  },
  {
   "cell_type": "markdown",
   "metadata": {},
   "source": [
    "___\n",
    "> _Note that the fit() function shuffles the data before each epoch by default. When specifying the validation_split parameter, however, the validation data is selected from the last samples in the x and y data before shuffling._\n",
    "\n",
    "Therefore, in the case we're using validation_split in this way to create our validation data, ___we need to be sure that our data has been shuffled ahead of time, like we previously did in <font color=\"yellow\">Step3</font>___\n",
    "\n",
    "> We can now see not only how well our model is learning the features of the training data, but also how well the model is generalizing to new, unseen data from the validation set\n",
    "> Next, we'll see how to use our model for inference\n",
    "___"
   ]
  },
  {
   "cell_type": "markdown",
   "metadata": {},
   "source": [
    "# <font color=\"yellow\">Step7)</font> __ANN Predictions__\n",
    "When we train a model, the hope is that we’ll later be able to take the trained model, apply it to new data, and have the model generalize and accurately predict on data it hasn’t seen before.\n",
    "\n",
    "- For example, suppose we have a model that categorizes images of cats or dogs and that the training data contained thousands of images of cats and dogs from a particular data set online.\n",
    "\n",
    "- Now suppose, that later we want to take this model and use it to predict on other images of cats and dogs from a different data set. The hope is that, even though our model wasn’t exposed to these particular dog and cat images during training, it will still be able to accurately make predictions for them based on what it’s learned from the cat and dog data set from which it was trained.\n",
    "\n",
    "We call this process <font color=\"red\">_inference_</font>, as the model is using its knowledge gained from training and using it to infer a prediction or result.\n",
    "\n",
    "Given the results we’ve seen from the validation data, it appears that this model should do well on predicting on a new test set."
   ]
  },
  {
   "cell_type": "markdown",
   "metadata": {},
   "source": [
    "## <font color=\"orange\">Creating The Test Set</font>\n",
    "Similar to <font color=\"yellow\">Step3</font>"
   ]
  },
  {
   "cell_type": "code",
   "execution_count": 9,
   "metadata": {},
   "outputs": [],
   "source": [
    "test_labels =  []\n",
    "test_samples = []\n",
    "\n",
    "for i in range(10):\n",
    "    # The 5% of younger individuals who did experience side effects\n",
    "    random_younger = randint(13,64)\n",
    "    test_samples.append(random_younger)\n",
    "    test_labels.append(1)\n",
    "\n",
    "    # The 5% of older individuals who did not experience side effects\n",
    "    random_older = randint(65,100)\n",
    "    test_samples.append(random_older)\n",
    "    test_labels.append(0)\n",
    "\n",
    "for i in range(200):\n",
    "    # The 95% of younger individuals who did not experience side effects\n",
    "    random_younger = randint(13,64)\n",
    "    test_samples.append(random_younger)\n",
    "    test_labels.append(0)\n",
    "\n",
    "    # The 95% of older individuals who did experience side effects\n",
    "    random_older = randint(65,100)\n",
    "    test_samples.append(random_older)\n",
    "    test_labels.append(1)\n",
    "\n",
    "test_labels = np.array(test_labels)\n",
    "test_samples = np.array(test_samples)\n",
    "test_labels, test_samples = shuffle(test_labels, test_samples)\n",
    "\n",
    "scaled_test_samples = scaler.fit_transform(test_samples.reshape(-1,1))"
   ]
  },
  {
   "cell_type": "markdown",
   "metadata": {},
   "source": [
    "## <font color=\"orange\">Evaluating The Test Set</font>\n",
    "To get predictions from the model for the test set, we call <font color=\"red\">__model.predict()__</font>\n",
    "> Note that, unlike with training and validation sets, we do not pass the labels of the test set to the model during the inference stage."
   ]
  },
  {
   "cell_type": "code",
   "execution_count": 10,
   "metadata": {},
   "outputs": [
    {
     "name": "stdout",
     "output_type": "stream",
     "text": [
      "42/42 [==============================] - 0s 1ms/step\n"
     ]
    }
   ],
   "source": [
    "predictions = model.predict(\n",
    "      x=scaled_test_samples\n",
    "    , batch_size=10\n",
    "    , verbose=1\n",
    ")  "
   ]
  },
  {
   "cell_type": "markdown",
   "metadata": {},
   "source": [
    "Each element in the predictions list is itself a list of length 2. \n",
    "> The sum of the two values in each list is 1\n",
    "\n",
    "The reason for this is because <font color=\"green\">__the two columns contain probabilities for each possible output: experienced side effects and did not experience side effects__</font>\n",
    "\n",
    "- The first column contains the probability for each patient not experiencing side effects <br>\n",
    "> <font color=\"red\">not experiencing side effects</font> is represented by a 0 <br>\n",
    "- The second column contains the probability for each patient experiencing side effects <br>\n",
    "> <font color=\"red\">experiencing side effects</font> is represented by a 1 <br>"
   ]
  },
  {
   "cell_type": "code",
   "execution_count": 11,
   "metadata": {},
   "outputs": [
    {
     "name": "stdout",
     "output_type": "stream",
     "text": [
      "[0.05263274 0.9473672 ]\n",
      "[0.1816221 0.818378 ]\n",
      "[0.96497136 0.0350286 ]\n",
      "[0.05979005 0.94021   ]\n",
      "[0.03812337 0.96187663]\n",
      "[0.05979005 0.94021   ]\n",
      "[0.16120909 0.83879095]\n",
      "[0.9424778 0.0575221]\n",
      "[0.9694109  0.03058911]\n",
      "[0.9699055  0.03009455]\n",
      "[0.07720424 0.9227957 ]\n",
      "[0.9684544  0.03154553]\n",
      "[0.97001517 0.02998481]\n",
      "[0.9620686  0.03793141]\n",
      "[0.02410694 0.9758931 ]\n"
     ]
    }
   ],
   "source": [
    "for i in predictions[:15]:\n",
    "    print(i)\n"
   ]
  },
  {
   "cell_type": "code",
   "execution_count": 12,
   "metadata": {},
   "outputs": [
    {
     "name": "stdout",
     "output_type": "stream",
     "text": [
      "Index of most probable prediction for each sample: [1 1 0 1 1 1 1 0 0 0 1 0 0 0 1]\n"
     ]
    }
   ],
   "source": [
    "# Most probable prediction for each sample\n",
    "rounded_predictions = np.argmax(predictions, axis=-1)\n",
    "print(\"Index of most probable prediction for each sample:\",rounded_predictions[:15])"
   ]
  },
  {
   "cell_type": "markdown",
   "metadata": {},
   "source": [
    "## We can observe the underlying predictions from the model, however, we cannot judge how accurate these predictions are just by looking at the predicted output.\n",
    "\n",
    "If we have corresponding labels for the test set,and compare these labels to the predicted labels, <br>\n",
    "> We can visualize the accuracy of the model's evaluations via a visualizing tool called <font color=\"red\">___confusion matrix___</font>\n",
    "\n",
    "This will aid us in being able to visually observe how well a neural network is predicting during inference.\n",
    "\n",
    "<img src=\"./imgs/confusion_matri_interpretation.jpeg\" style=\"width:500px\"> <br>\n",
    "\n",
    "- <font color=\"red\">__FN__: Prediction is Negative, but that is a False Prediction </font>\n",
    "- <font color=\"red\">__FP__: Prediction is Positive, but that is a False Prediction </font>\n",
    "- <font color=\"green\">__TP__: Prediction is Positive, and that is a True Prediction </font>\n",
    "- <font color=\"green\">__TN__: Prediction is Negative, and that is a True Prediction </font>\n",
    "   "
   ]
  },
  {
   "cell_type": "markdown",
   "metadata": {},
   "source": [
    "# <font color=\"yellow\"> Step8)</font> Plotting A Confusion Matrix"
   ]
  },
  {
   "cell_type": "code",
   "execution_count": 13,
   "metadata": {},
   "outputs": [],
   "source": [
    "#First, we import all the required libraries we’ll be working with.\n",
    "\n",
    "%matplotlib inline\n",
    "from sklearn.metrics import confusion_matrix\n",
    "import itertools\n",
    "import matplotlib.pyplot as plt"
   ]
  },
  {
   "cell_type": "markdown",
   "metadata": {},
   "source": [
    "<font color=\"orange\">The confusion matrix we’ll be plotting comes from scikit-learn </font>\n",
    "\n",
    "We then create the confusion matrix and assign it to the variable <font color=\"red\">__cm__<font>"
   ]
  },
  {
   "cell_type": "code",
   "execution_count": 14,
   "metadata": {},
   "outputs": [],
   "source": [
    "# To the confusion matrix, we pass in the true labels test_labels as well as the network’s predicted labels rounded_predictions for the test set\n",
    "cm = confusion_matrix(y_true=test_labels, y_pred=rounded_predictions)"
   ]
  },
  {
   "cell_type": "markdown",
   "metadata": {},
   "source": [
    "## <font color=\"orange\">We have a function called plot_confusion_matrix() that came directly from scikit-learn</font>"
   ]
  },
  {
   "cell_type": "code",
   "execution_count": 15,
   "metadata": {},
   "outputs": [],
   "source": [
    "def plot_confusion_matrix(cm, classes, normalize=False, title='Confusion matrix', cmap=plt.cm.Blues):\n",
    "    \"\"\"\n",
    "    This function prints and plots the confusion matrix.\n",
    "    Normalization can be applied by setting `normalize=True`.\n",
    "    \"\"\"\n",
    "    plt.imshow(cm, interpolation='nearest', cmap=cmap)\n",
    "    plt.title(title)\n",
    "    plt.colorbar()\n",
    "    tick_marks = np.arange(len(classes))\n",
    "    plt.xticks(tick_marks, classes, rotation=45)\n",
    "    plt.yticks(tick_marks, classes)\n",
    "\n",
    "    if normalize:\n",
    "        cm = cm.astype('float') / cm.sum(axis=1)[:, np.newaxis]\n",
    "        print(\"Normalized confusion matrix\")\n",
    "    else:\n",
    "        print('Confusion matrix, without normalization')\n",
    "\n",
    "    print(cm)\n",
    "\n",
    "    thresh = cm.max() / 2.\n",
    "    for i, j in itertools.product(range(cm.shape[0]), range(cm.shape[1])):\n",
    "        plt.text(j, i, cm[i, j],\n",
    "            horizontalalignment=\"center\",\n",
    "            color=\"white\" if cm[i, j] > thresh else \"black\")\n",
    "\n",
    "    plt.tight_layout()\n",
    "    plt.ylabel('True label')\n",
    "    plt.xlabel('Predicted label')"
   ]
  },
  {
   "cell_type": "markdown",
   "metadata": {},
   "source": [
    "## <font color=\"orange\">Next, we define the labels for the confusion matrix. In our case, the labels are titled “no side effects” and “had side effects.”</font>"
   ]
  },
  {
   "cell_type": "code",
   "execution_count": 16,
   "metadata": {},
   "outputs": [],
   "source": [
    "cm_plot_labels = ['no_side_effects','had_side_effects']"
   ]
  },
  {
   "cell_type": "markdown",
   "metadata": {},
   "source": [
    "## <font color=\"orange\">Lastly, we plot the confusion matrix by using the plot_confusion_matrix() function we just defined </font>"
   ]
  },
  {
   "cell_type": "code",
   "execution_count": 17,
   "metadata": {},
   "outputs": [
    {
     "name": "stdout",
     "output_type": "stream",
     "text": [
      "Confusion matrix, without normalization\n",
      "[[187  23]\n",
      " [  9 201]]\n"
     ]
    },
    {
     "data": {
      "image/png": "[encoded data removed]",
      "text/plain": [
       "<Figure size 432x288 with 2 Axes>"
      ]
     },
     "metadata": {
      "needs_background": "light"
     },
     "output_type": "display_data"
    }
   ],
   "source": [
    "plot_confusion_matrix(cm=cm, classes=cm_plot_labels, title='Confusion Matrix')"
   ]
  },
  {
   "cell_type": "markdown",
   "metadata": {},
   "source": [
    "## <font color=\"orange\">Reading A Confusion Matrix</font>\n",
    "- We have the predicted labels on the x-axis and the true labels on the y-axis <br>\n",
    "- The blue cells running from the top left to bottom right contain the number of samples that the model accurately predicted <br>\n",
    "- The white cells contain the number of samples that were incorrectly predicted <br>\n",
    "\n",
    "#### We can see that the <font color=\"green\">model accurately predicted 397 and incorrectly predicted 23</font> out of the 420 total samples"
   ]
  },
  {
   "cell_type": "markdown",
   "metadata": {},
   "source": [
    "# <font color=\"yellow\">Step9)</font> Save And Load A Model\n",
    "If we want to save a model at its current state after it was trained so that we could make use of it later, we can call the <font color=\"red\">save()</font> function on the model. <br>\n",
    "To save(), we pass in the file path and name of the file we want to save the model to with an <font color=\"red\">.h5 extension</font>\n",
    "- Note, this function also allows for saving the model as a _Tensorflow <font color=\"green\">SavedModel</font>_ as well if you'd prefer."
   ]
  },
  {
   "cell_type": "markdown",
   "metadata": {},
   "source": [
    "## <font color=\"orange\">9.a) Model.Save</font>"
   ]
  },
  {
   "cell_type": "code",
   "execution_count": 19,
   "metadata": {},
   "outputs": [],
   "source": [
    "model.save('medical_trial_model.h5')"
   ]
  },
  {
   "cell_type": "markdown",
   "metadata": {},
   "source": [
    "This __save__ function saves:\n",
    "- Architecture of the model\n",
    "- Weights of the model\n",
    "- Training Configuration (loss, optimizer)\n",
    "- Supports resuming the training of the model from the point it was saved, by saving the State of the optimizer\n",
    "\n",
    "## <font color=\"orange\">Now that we have this model saved, we can load the model at a later time</font>"
   ]
  },
  {
   "cell_type": "code",
   "execution_count": 22,
   "metadata": {},
   "outputs": [
    {
     "name": "stdout",
     "output_type": "stream",
     "text": [
      "Model: \"sequential\"\n",
      "_________________________________________________________________\n",
      "Layer (type)                 Output Shape              Param #   \n",
      "=================================================================\n",
      "dense (Dense)                (None, 16)                32        \n",
      "_________________________________________________________________\n",
      "dense_1 (Dense)              (None, 32)                544       \n",
      "_________________________________________________________________\n",
      "dense_2 (Dense)              (None, 2)                 66        \n",
      "=================================================================\n",
      "Total params: 642\n",
      "Trainable params: 642\n",
      "Non-trainable params: 0\n",
      "_________________________________________________________________\n"
     ]
    }
   ],
   "source": [
    "from tensorflow.keras.models import load_model\n",
    "new_model = load_model('saved_models/medical_trial_model.h5')\n",
    "new_model.summary()"
   ]
  },
  {
   "cell_type": "markdown",
   "metadata": {},
   "source": [
    "### Available alternatives:\n",
    "- json Architecture, i.e. This will not save the model weights, configurations, optimizer, loss or anything else. This only saves the architecture of the model\n",
    "\n",
    "```sh\n",
    "json_string = model.to_json()\n",
    "json_string\n",
    "```\n",
    "\n",
    "```sh\n",
    "from tensorflow.keras.models import model_from_json\n",
    "model_architecture = model_from_json(json_string)\n",
    "model_architecture.summary()\n",
    "```\n",
    "- Similarly yaml_string\n",
    "```\n",
    "yaml_string = model.to_yaml() and model_from_yaml()\n",
    "```"
   ]
  },
  {
   "cell_type": "markdown",
   "metadata": {},
   "source": [
    "## <font color=\"orange\">9.b) Model.to_json</font>"
   ]
  },
  {
   "cell_type": "code",
   "execution_count": 23,
   "metadata": {},
   "outputs": [
    {
     "data": {
      "text/plain": [
       "'{\"class_name\": \"Sequential\", \"config\": {\"name\": \"sequential\", \"layers\": [{\"class_name\": \"Dense\", \"config\": {\"name\": \"dense\", \"trainable\": true, \"batch_input_shape\": [null, 1], \"dtype\": \"float32\", \"units\": 16, \"activation\": \"relu\", \"use_bias\": true, \"kernel_initializer\": {\"class_name\": \"GlorotUniform\", \"config\": {\"seed\": null}}, \"bias_initializer\": {\"class_name\": \"Zeros\", \"config\": {}}, \"kernel_regularizer\": null, \"bias_regularizer\": null, \"activity_regularizer\": null, \"kernel_constraint\": null, \"bias_constraint\": null}}, {\"class_name\": \"Dense\", \"config\": {\"name\": \"dense_1\", \"trainable\": true, \"dtype\": \"float32\", \"units\": 32, \"activation\": \"relu\", \"use_bias\": true, \"kernel_initializer\": {\"class_name\": \"GlorotUniform\", \"config\": {\"seed\": null}}, \"bias_initializer\": {\"class_name\": \"Zeros\", \"config\": {}}, \"kernel_regularizer\": null, \"bias_regularizer\": null, \"activity_regularizer\": null, \"kernel_constraint\": null, \"bias_constraint\": null}}, {\"class_name\": \"Dense\", \"config\": {\"name\": \"dense_2\", \"trainable\": true, \"dtype\": \"float32\", \"units\": 2, \"activation\": \"softmax\", \"use_bias\": true, \"kernel_initializer\": {\"class_name\": \"GlorotUniform\", \"config\": {\"seed\": null}}, \"bias_initializer\": {\"class_name\": \"Zeros\", \"config\": {}}, \"kernel_regularizer\": null, \"bias_regularizer\": null, \"activity_regularizer\": null, \"kernel_constraint\": null, \"bias_constraint\": null}}], \"build_input_shape\": [null, 1]}, \"keras_version\": \"2.3.0-tf\", \"backend\": \"tensorflow\"}'"
      ]
     },
     "execution_count": 23,
     "metadata": {},
     "output_type": "execute_result"
    }
   ],
   "source": [
    "json_string = model.to_json()\n",
    "json_string\n",
    "# Displays the details of the model architecture"
   ]
  },
  {
   "cell_type": "code",
   "execution_count": 24,
   "metadata": {},
   "outputs": [
    {
     "name": "stdout",
     "output_type": "stream",
     "text": [
      "Model: \"sequential\"\n",
      "_________________________________________________________________\n",
      "Layer (type)                 Output Shape              Param #   \n",
      "=================================================================\n",
      "dense (Dense)                (None, 16)                32        \n",
      "_________________________________________________________________\n",
      "dense_1 (Dense)              (None, 32)                544       \n",
      "_________________________________________________________________\n",
      "dense_2 (Dense)              (None, 2)                 66        \n",
      "=================================================================\n",
      "Total params: 642\n",
      "Trainable params: 642\n",
      "Non-trainable params: 0\n",
      "_________________________________________________________________\n"
     ]
    }
   ],
   "source": [
    "from tensorflow.keras.models import model_from_json\n",
    "model_architecture = model_from_json(json_string)\n",
    "model_architecture.summary()"
   ]
  },
  {
   "cell_type": "markdown",
   "metadata": {},
   "source": [
    "## <font color=\"orange\">9.c) Saving And Loading The Weights Of The Model</font>\n"
   ]
  },
  {
   "cell_type": "code",
   "execution_count": 25,
   "metadata": {},
   "outputs": [],
   "source": [
    "model.save_weights('saved_models/medical_trial_model_weights.h5')"
   ]
  },
  {
   "cell_type": "markdown",
   "metadata": {},
   "source": [
    "### At a later point, we could then load the saved weights in to a new model, but the new model will need to have the same architecture as the old model before the weights can be saved.\n"
   ]
  },
  {
   "cell_type": "code",
   "execution_count": 27,
   "metadata": {},
   "outputs": [],
   "source": [
    "model2 = Sequential([\n",
    "    Dense(units=16, input_shape=(1,), activation='relu'),\n",
    "    Dense(units=32, activation='relu'),\n",
    "    Dense(units=2, activation='softmax')\n",
    "])\n",
    "\n",
    "model2.load_weights('saved_models/medical_trial_model_weights.h5')"
   ]
  },
  {
   "cell_type": "code",
   "execution_count": 28,
   "metadata": {},
   "outputs": [
    {
     "name": "stdout",
     "output_type": "stream",
     "text": [
      "Model: \"sequential_3\"\n",
      "_________________________________________________________________\n",
      "Layer (type)                 Output Shape              Param #   \n",
      "=================================================================\n",
      "dense_9 (Dense)              (None, 16)                32        \n",
      "_________________________________________________________________\n",
      "dense_10 (Dense)             (None, 32)                544       \n",
      "_________________________________________________________________\n",
      "dense_11 (Dense)             (None, 2)                 66        \n",
      "=================================================================\n",
      "Total params: 642\n",
      "Trainable params: 642\n",
      "Non-trainable params: 0\n",
      "_________________________________________________________________\n"
     ]
    }
   ],
   "source": [
    "model2.summary()"
   ]
  },
  {
   "cell_type": "code",
   "execution_count": null,
   "metadata": {},
   "outputs": [],
   "source": []
  }
 ],
 "metadata": {
  "kernelspec": {
   "display_name": "Python 3",
   "language": "python",
   "name": "python3"
  },
  "language_info": {
   "codemirror_mode": {
    "name": "ipython",
    "version": 3
   },
   "file_extension": ".py",
   "mimetype": "text/x-python",
   "name": "python",
   "nbconvert_exporter": "python",
   "pygments_lexer": "ipython3",
   "version": "3.7.7"
  }
 },
 "nbformat": 4,
 "nbformat_minor": 4
}
