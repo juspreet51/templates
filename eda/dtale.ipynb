{
 "cells": [
  {
   "cell_type": "code",
   "execution_count": 1,
   "metadata": {
    "collapsed": true,
    "jupyter": {
     "outputs_hidden": true
    }
   },
   "outputs": [
    {
     "name": "stdout",
     "output_type": "stream",
     "text": [
      "Collecting dtale\n",
      "  Downloading https://files.pythonhosted.org/packages/90/db/fd6bfd4aea95a9e1245ba40a7212e8795e4f5938c9d161bc893742e68807/dtale-1.40.2-py2.py3-none-any.whl (14.2MB)\n",
      "Requirement already satisfied: networkx; python_version >= \"3.0\" in c:\\users\\jaspr\\anaconda3\\lib\\site-packages (from dtale) (2.5)\n",
      "Collecting dash-bootstrap-components; python_version > \"3.0\" (from dtale)\n",
      "  Downloading https://files.pythonhosted.org/packages/09/77/2e07311c55e9d584f08f4f95061b250cd481bcee8df581b8f30e07c4b97d/dash_bootstrap_components-0.12.0-py3-none-any.whl (191kB)\n",
      "Requirement already satisfied: xlrd in c:\\users\\jaspr\\anaconda3\\lib\\site-packages (from dtale) (1.2.0)\n",
      "Collecting xarray; python_version >= \"3.0\" (from dtale)\n",
      "  Downloading https://files.pythonhosted.org/packages/a5/19/debc1f470b8b9e2949da221663c8102ed6728f4d38dc964085ca43de1428/xarray-0.17.0-py3-none-any.whl (759kB)\n",
      "Requirement already satisfied: pandas in c:\\users\\jaspr\\anaconda3\\lib\\site-packages (from dtale) (1.2.3)\n",
      "Collecting dash-colorscales (from dtale)\n",
      "  Downloading https://files.pythonhosted.org/packages/d5/24/de9318acd52989d77135a8497c8be536442b725473684ed4e1ab999b2051/dash_colorscales-0.0.4.tar.gz (62kB)\n",
      "Requirement already satisfied: statsmodels; python_version > \"3.0\" in c:\\users\\jaspr\\anaconda3\\lib\\site-packages (from dtale) (0.10.1)\n",
      "Requirement already satisfied: openpyxl; python_version >= \"3.0\" in c:\\users\\jaspr\\anaconda3\\lib\\site-packages (from dtale) (3.0.0)\n",
      "Collecting dash>=1.5.0 (from dtale)\n",
      "  Downloading https://files.pythonhosted.org/packages/bc/b4/0bd5c94fdcb0eccb93c3c8068fe10f5607e542337d0b8f6e2d88078316a9/dash-1.19.0.tar.gz (75kB)\n",
      "Requirement already satisfied: future>=0.14.0 in c:\\users\\jaspr\\anaconda3\\lib\\site-packages (from dtale) (0.18.2)\n",
      "Collecting kaleido; python_version > \"3.6\" (from dtale)\n",
      "  Downloading https://files.pythonhosted.org/packages/f7/9a/0408b02a4bcb3cf8b338a2b074ac7d1b2099e2b092b42473def22f7b625f/kaleido-0.2.1-py2.py3-none-win_amd64.whl (65.9MB)\n",
      "Collecting dash-daq (from dtale)\n",
      "  Downloading https://files.pythonhosted.org/packages/16/c1/9c6adfc3646990965a5b2ca073f579cc9c09d15553fcfcd83aefd1255494/dash_daq-0.5.0.tar.gz (642kB)\n",
      "Collecting lz4; python_version > \"3.0\" (from dtale)\n",
      "  Downloading https://files.pythonhosted.org/packages/3a/74/3f680183a63cec9a19cae706af98ac6ef5c18b9a5fa3bb81c2018d167430/lz4-3.1.3-cp37-cp37m-win_amd64.whl (192kB)\n",
      "Collecting flask-ngrok; python_version > \"3.0\" (from dtale)\n",
      "  Downloading https://files.pythonhosted.org/packages/af/6c/f54cb686ad1129e27d125d182f90f52b32f284e6c8df58c1bae54fa1adbc/flask_ngrok-0.0.25-py3-none-any.whl\n",
      "Collecting Flask-Compress (from dtale)\n",
      "  Downloading https://files.pythonhosted.org/packages/c6/d5/69b13600230d24310b98a52da561113fc01a5c17acf77152761eef3e50f1/Flask_Compress-1.9.0-py3-none-any.whl\n",
      "Requirement already satisfied: six in c:\\users\\jaspr\\anaconda3\\lib\\site-packages (from dtale) (1.12.0)\n",
      "Requirement already satisfied: scipy in c:\\users\\jaspr\\anaconda3\\lib\\site-packages (from dtale) (1.6.1)\n",
      "Collecting plotly>=4.9.0 (from dtale)\n",
      "  Downloading https://files.pythonhosted.org/packages/1f/f6/bd3c17c8003b6641df1228e80e1acac97ed8402635e46c2571f8e1ef63af/plotly-4.14.3-py2.py3-none-any.whl (13.2MB)\n",
      "Collecting strsimpy (from dtale)\n",
      "  Downloading https://files.pythonhosted.org/packages/1e/03/13717aacea2f5c3c2ccb74fa921b0073476810afc079be3534eb17383639/strsimpy-0.2.0-py3-none-any.whl (45kB)\n",
      "Requirement already satisfied: scikit-learn in c:\\users\\jaspr\\anaconda3\\lib\\site-packages (from dtale) (0.21.3)\n",
      "Requirement already satisfied: requests in c:\\users\\jaspr\\anaconda3\\lib\\site-packages (from dtale) (2.25.1)\n",
      "Collecting ppscore; python_version >= \"3.6\" (from dtale)\n",
      "  Downloading https://files.pythonhosted.org/packages/f7/25/5d7bc56240da13ef3be08ca4b6c61747d3ca3f8db649e67d97016a0629c8/ppscore-1.2.0.tar.gz (47kB)\n",
      "Requirement already satisfied: itsdangerous in c:\\users\\jaspr\\anaconda3\\lib\\site-packages (from dtale) (1.1.0)\n",
      "Collecting squarify (from dtale)\n",
      "  Downloading https://files.pythonhosted.org/packages/0b/2b/2e77c35326efec19819cd1d729540d4d235e6c2a3f37658288a363a67da5/squarify-0.4.3-py3-none-any.whl\n",
      "Requirement already satisfied: Flask>=1.0 in c:\\users\\jaspr\\anaconda3\\lib\\site-packages (from dtale) (1.1.1)\n",
      "Requirement already satisfied: decorator>=4.3.0 in c:\\users\\jaspr\\anaconda3\\lib\\site-packages (from networkx; python_version >= \"3.0\"->dtale) (4.4.0)\n",
      "Requirement already satisfied: setuptools>=40.4 in c:\\users\\jaspr\\anaconda3\\lib\\site-packages (from xarray; python_version >= \"3.0\"->dtale) (41.4.0)\n",
      "Requirement already satisfied: numpy>=1.15 in c:\\users\\jaspr\\anaconda3\\lib\\site-packages (from xarray; python_version >= \"3.0\"->dtale) (1.16.5)\n",
      "Requirement already satisfied: pytz>=2017.3 in c:\\users\\jaspr\\anaconda3\\lib\\site-packages (from pandas->dtale) (2019.3)\n",
      "Requirement already satisfied: python-dateutil>=2.7.3 in c:\\users\\jaspr\\anaconda3\\lib\\site-packages (from pandas->dtale) (2.8.0)\n",
      "Requirement already satisfied: patsy>=0.4.0 in c:\\users\\jaspr\\anaconda3\\lib\\site-packages (from statsmodels; python_version > \"3.0\"->dtale) (0.5.1)\n",
      "Requirement already satisfied: et-xmlfile in c:\\users\\jaspr\\anaconda3\\lib\\site-packages (from openpyxl; python_version >= \"3.0\"->dtale) (1.0.1)\n",
      "Requirement already satisfied: jdcal in c:\\users\\jaspr\\anaconda3\\lib\\site-packages (from openpyxl; python_version >= \"3.0\"->dtale) (1.4.1)\n",
      "Collecting dash_renderer==1.9.0 (from dash>=1.5.0->dtale)\n",
      "  Downloading https://files.pythonhosted.org/packages/be/a6/dd1edfe7b1102274e93991736c35b2a5e1a63b524c8d9f41bbb30f17340b/dash_renderer-1.9.0.tar.gz (1.0MB)\n",
      "Collecting dash-core-components==1.15.0 (from dash>=1.5.0->dtale)\n",
      "  Downloading https://files.pythonhosted.org/packages/22/78/ae0829e673f3df77403bcdb35073b1ed2f156080f5bcac6f21c1047d73fe/dash_core_components-1.15.0.tar.gz (3.5MB)\n",
      "Collecting dash-html-components==1.1.2 (from dash>=1.5.0->dtale)\n",
      "  Downloading https://files.pythonhosted.org/packages/3f/25/56de2708128fe375eecc2e18e0ccdc3a853494966e36334ec8a30be99b94/dash_html_components-1.1.2.tar.gz (188kB)\n",
      "Collecting dash-table==4.11.2 (from dash>=1.5.0->dtale)\n",
      "  Downloading https://files.pythonhosted.org/packages/3d/ae/96cb64b58d76391604b57f8c747f9a19ab2122e7ba214e2e0cf35484962b/dash_table-4.11.2.tar.gz (1.8MB)\n",
      "Collecting brotli (from Flask-Compress->dtale)\n",
      "  Downloading https://files.pythonhosted.org/packages/f1/cf/9cebdbbcecf9a9650cc6da672afaac5a731c9c9097a0f67031a9af9ce805/Brotli-1.0.9-cp37-cp37m-win_amd64.whl (365kB)\n",
      "Collecting retrying>=1.3.3 (from plotly>=4.9.0->dtale)\n",
      "Requirement already satisfied: joblib>=0.11 in c:\\users\\jaspr\\anaconda3\\lib\\site-packages (from scikit-learn->dtale) (0.13.2)\n",
      "Requirement already satisfied: urllib3<1.27,>=1.21.1 in c:\\users\\jaspr\\anaconda3\\lib\\site-packages (from requests->dtale) (1.24.2)\n",
      "Requirement already satisfied: certifi>=2017.4.17 in c:\\users\\jaspr\\anaconda3\\lib\\site-packages (from requests->dtale) (2019.9.11)\n",
      "Requirement already satisfied: idna<3,>=2.5 in c:\\users\\jaspr\\anaconda3\\lib\\site-packages (from requests->dtale) (2.8)\n",
      "Requirement already satisfied: chardet<5,>=3.0.2 in c:\\users\\jaspr\\anaconda3\\lib\\site-packages (from requests->dtale) (3.0.4)\n",
      "Requirement already satisfied: click>=5.1 in c:\\users\\jaspr\\anaconda3\\lib\\site-packages (from Flask>=1.0->dtale) (7.0)\n",
      "Requirement already satisfied: Jinja2>=2.10.1 in c:\\users\\jaspr\\anaconda3\\lib\\site-packages (from Flask>=1.0->dtale) (2.11.3)\n",
      "Requirement already satisfied: Werkzeug>=0.15 in c:\\users\\jaspr\\appdata\\roaming\\python\\python37\\site-packages (from Flask>=1.0->dtale) (1.0.1)\n",
      "Requirement already satisfied: MarkupSafe>=0.23 in c:\\users\\jaspr\\anaconda3\\lib\\site-packages (from Jinja2>=2.10.1->Flask>=1.0->dtale) (1.1.1)\n",
      "Building wheels for collected packages: dash-colorscales, dash, dash-daq, ppscore, dash-renderer, dash-core-components, dash-html-components, dash-table\n",
      "  Building wheel for dash-colorscales (setup.py): started\n",
      "  Building wheel for dash-colorscales (setup.py): finished with status 'done'\n",
      "  Created wheel for dash-colorscales: filename=dash_colorscales-0.0.4-cp37-none-any.whl size=62606 sha256=6534b3f9c02340611fb45a7c9cb67e05efc04559604e10e6b2a61fe6c16d2a6a\n",
      "  Stored in directory: C:\\Users\\jaspr\\AppData\\Local\\pip\\Cache\\wheels\\0e\\4a\\1c\\3490cfe6a59299b06917af6626a969c8fb7caead39b2d74cf2\n",
      "  Building wheel for dash (setup.py): started\n",
      "  Building wheel for dash (setup.py): finished with status 'done'\n",
      "  Created wheel for dash: filename=dash-1.19.0-cp37-none-any.whl size=84016 sha256=3bd75486662ed8f7bae5b8e6a39f9b665f57b8b44eee9fb9ad686d14e947eff4\n",
      "  Stored in directory: C:\\Users\\jaspr\\AppData\\Local\\pip\\Cache\\wheels\\f7\\50\\a7\\a230ff7f503b10120bff18c2524a375bb85a61ce6b519c8a77\n",
      "  Building wheel for dash-daq (setup.py): started\n",
      "  Building wheel for dash-daq (setup.py): finished with status 'done'\n",
      "  Created wheel for dash-daq: filename=dash_daq-0.5.0-cp37-none-any.whl size=669708 sha256=ff8ab5e52f5e5c28fe446b7740a2d4216419e9347eec19b67f538cdec19f98de\n",
      "  Stored in directory: C:\\Users\\jaspr\\AppData\\Local\\pip\\Cache\\wheels\\1c\\9c\\f7\\84731716eaa9fc952cdbdd1f87df3ca9b8805c317c609efcd6\n",
      "  Building wheel for ppscore (setup.py): started\n",
      "  Building wheel for ppscore (setup.py): finished with status 'done'\n",
      "  Created wheel for ppscore: filename=ppscore-1.2.0-py2.py3-none-any.whl size=13055 sha256=d0a27bf04cecf6126f85f30186aab98a30385d145a57f79d0be113a7f8688b2f\n",
      "  Stored in directory: C:\\Users\\jaspr\\AppData\\Local\\pip\\Cache\\wheels\\50\\cc\\8f\\d0da07e4ec4e7a4c4cf32aee9057e4d1c318de910543b4684e\n",
      "  Building wheel for dash-renderer (setup.py): started\n",
      "  Building wheel for dash-renderer (setup.py): finished with status 'done'\n",
      "  Created wheel for dash-renderer: filename=dash_renderer-1.9.0-cp37-none-any.whl size=1014875 sha256=48d2361ce01fb96acf3e8e28292343516aa22a72f3caf8e1ea60f4081884f0de\n",
      "  Stored in directory: C:\\Users\\jaspr\\AppData\\Local\\pip\\Cache\\wheels\\46\\a0\\ec\\2be2e8fc750e623d76f9690c397cc5ab28b33d0a16a49e10c5\n",
      "  Building wheel for dash-core-components (setup.py): started\n",
      "  Building wheel for dash-core-components (setup.py): finished with status 'done'\n",
      "  Created wheel for dash-core-components: filename=dash_core_components-1.15.0-cp37-none-any.whl size=3527020 sha256=296550acbf44ce8b9142af01293019c42ba43116ac032df6e6aa65256df9a6ef\n",
      "  Stored in directory: C:\\Users\\jaspr\\AppData\\Local\\pip\\Cache\\wheels\\53\\3d\\be\\d628d6f66eedf9597f0c89c8ff43a5020ad1c25152c77d8e9f\n",
      "  Building wheel for dash-html-components (setup.py): started\n",
      "  Building wheel for dash-html-components (setup.py): finished with status 'done'\n",
      "  Created wheel for dash-html-components: filename=dash_html_components-1.1.2-cp37-none-any.whl size=427837 sha256=a98d18aeed26dee02687c85953aca4dc0d197e3de3edb5c97dacc268ed603180\n",
      "  Stored in directory: C:\\Users\\jaspr\\AppData\\Local\\pip\\Cache\\wheels\\44\\95\\70\\0dc41f9b4e31b8a7ea22193aad5647b2c85cfab37bf13c0242\n",
      "  Building wheel for dash-table (setup.py): started\n",
      "  Building wheel for dash-table (setup.py): finished with status 'done'\n",
      "  Created wheel for dash-table: filename=dash_table-4.11.2-cp37-none-any.whl size=1839873 sha256=162a1e4bd9fc5a57a7e8038d6d01c1018d9910ebcfe8a060348c484f7cc62d4d\n",
      "  Stored in directory: C:\\Users\\jaspr\\AppData\\Local\\pip\\Cache\\wheels\\72\\d9\\f6\\2ad62ac0037f1f0c0d3d10948a596b594a069057df0656ac3f\n",
      "Successfully built dash-colorscales dash dash-daq ppscore dash-renderer dash-core-components dash-html-components dash-table\n",
      "Installing collected packages: brotli, Flask-Compress, retrying, plotly, dash-renderer, dash-core-components, dash-html-components, dash-table, dash, dash-bootstrap-components, xarray, dash-colorscales, kaleido, dash-daq, lz4, flask-ngrok, strsimpy, ppscore, squarify, dtale\n",
      "Successfully installed Flask-Compress-1.9.0 brotli-1.0.9 dash-1.19.0 dash-bootstrap-components-0.12.0 dash-colorscales-0.0.4 dash-core-components-1.15.0 dash-daq-0.5.0 dash-html-components-1.1.2 dash-renderer-1.9.0 dash-table-4.11.2 dtale-1.40.2 flask-ngrok-0.0.25 kaleido-0.2.1 lz4-3.1.3 plotly-4.14.3 ppscore-1.2.0 retrying-1.3.3 squarify-0.4.3 strsimpy-0.2.0 xarray-0.17.0\n"
     ]
    }
   ],
   "source": [
    "# ! pip install dtale\n",
    "import sys\n",
    "!{sys.executable} -m pip install dtale"
   ]
  },
  {
   "cell_type": "code",
   "execution_count": 2,
   "metadata": {},
   "outputs": [],
   "source": [
    "import dtale\n",
    "import pandas as pd"
   ]
  },
  {
   "cell_type": "code",
   "execution_count": 3,
   "metadata": {},
   "outputs": [
    {
     "name": "stderr",
     "output_type": "stream",
     "text": [
      "2021-03-23 19:12:59,324 - INFO     - NumExpr defaulting to 8 threads.\n"
     ]
    }
   ],
   "source": [
    "# Titanic Dataset\n",
    "ip_df = pd.read_csv(\"https://gist.githubusercontent.com/michhar/2dfd2de0d4f8727f873422c5d959fff5/raw/fa71405126017e6a37bea592440b4bee94bf7b9e/titanic.csv\")\n",
    "d = dtale.show(ip_df)"
   ]
  },
  {
   "cell_type": "code",
   "execution_count": 4,
   "metadata": {},
   "outputs": [],
   "source": [
    "d.open_browser()\n",
    "# interpretation of QQ Plot: https://www.youtube.com/watch?v=-KXy4i8awOg"
   ]
  }
 ],
 "metadata": {
  "kernelspec": {
   "display_name": "Python 3",
   "language": "python",
   "name": "python3"
  },
  "language_info": {
   "codemirror_mode": {
    "name": "ipython",
    "version": 3
   },
   "file_extension": ".py",
   "mimetype": "text/x-python",
   "name": "python",
   "nbconvert_exporter": "python",
   "pygments_lexer": "ipython3",
   "version": "3.7.4"
  }
 },
 "nbformat": 4,
 "nbformat_minor": 4
}
